{
 "cells": [
  {
   "cell_type": "markdown",
   "metadata": {},
   "source": [
    "<h1>Data Preparation</h1>"
   ]
  },
  {
   "cell_type": "markdown",
   "metadata": {},
   "source": [
    "<h2>Importing pandas module</h2>"
   ]
  },
  {
   "cell_type": "code",
   "execution_count": 1,
   "metadata": {},
   "outputs": [],
   "source": [
    "import pandas as pd"
   ]
  },
  {
   "cell_type": "markdown",
   "metadata": {},
   "source": [
    "<h2>Reading and combining data</h2>"
   ]
  },
  {
   "cell_type": "markdown",
   "metadata": {},
   "source": [
    "<h3>Creating a list that contains csv file names</h3>"
   ]
  },
  {
   "cell_type": "code",
   "execution_count": 2,
   "metadata": {},
   "outputs": [],
   "source": [
    "csv_files = [\n",
    "    \"Bio-Diesel_PassengerVehicle_Stats.csv\",\n",
    "    \"Compressed Natural Gas_PassengerVehicle_Stats.csv\",\n",
    "    \"Diesel_PassengerVehicle_Stats.csv\",\n",
    "    \"Electric_PassengerVehicle_Stats.csv\",\n",
    "    \"Flex Fuel_PassengerVehicle_Stats.csv\",\n",
    "    \"Gasoline_PassengerVehicle_Stats.csv\",\n",
    "    \"Horse_PassengerVehicle_Stats.csv\",\n",
    "    \"Hybrid_PassengerVehicle_Stats.csv\",\n",
    "    \"Pedal_PassengerVehicle_Stats.csv\",\n",
    "]"
   ]
  },
  {
   "cell_type": "markdown",
   "metadata": {},
   "source": [
    "<h3>Loading all 9 csv files into a list</h3>"
   ]
  },
  {
   "cell_type": "code",
   "execution_count": 3,
   "metadata": {},
   "outputs": [
    {
     "name": "stdout",
     "output_type": "stream",
     "text": [
      "Loaded Bio-Diesel_PassengerVehicle_Stats.csv successfully.\n",
      "Loaded Compressed Natural Gas_PassengerVehicle_Stats.csv successfully.\n",
      "Loaded Diesel_PassengerVehicle_Stats.csv successfully.\n",
      "Loaded Electric_PassengerVehicle_Stats.csv successfully.\n",
      "Loaded Flex Fuel_PassengerVehicle_Stats.csv successfully.\n",
      "Loaded Gasoline_PassengerVehicle_Stats.csv successfully.\n",
      "Loaded Horse_PassengerVehicle_Stats.csv successfully.\n",
      "Loaded Hybrid_PassengerVehicle_Stats.csv successfully.\n",
      "Loaded Pedal_PassengerVehicle_Stats.csv successfully.\n",
      "9\n"
     ]
    }
   ],
   "source": [
    "# Load all files into a list\n",
    "file_list = [] \n",
    "for file in csv_files:\n",
    "    try:\n",
    "        df = pd.read_csv(file)\n",
    "        file_list.append(df)\n",
    "        print(f\"Loaded {file} successfully.\")\n",
    "    except FileNotFoundError:\n",
    "        print(f\"File {file} not found. Please check the file path.\")\n",
    "    except Exception as e:\n",
    "        print(f\"An error occurred while loading {file}: {e}\")\n",
    "print(len(file_list))"
   ]
  },
  {
   "cell_type": "markdown",
   "metadata": {},
   "source": [
    "<h3>Concatenate files and Display the dataframe structure</h3>"
   ]
  },
  {
   "cell_type": "code",
   "execution_count": 4,
   "metadata": {},
   "outputs": [
    {
     "name": "stdout",
     "output_type": "stream",
     "text": [
      "   Unnamed: 0  Public Vehicle Number    Status Vehicle Make Vehicle Model  \\\n",
      "0        1286                  12009  RESERVED    CHEVROLET       EXPRESS   \n",
      "1        2095                  12248  INACTIVE     MERCEDES      SPRINTER   \n",
      "2        7950                  13527  INACTIVE     VAN HOOL         TD925   \n",
      "3        8700                  12248  INACTIVE     MERCEDES      SPRINTER   \n",
      "4        9359                  13528  INACTIVE     VAN HOOL         TD925   \n",
      "\n",
      "   Vehicle Model Year Vehicle Color Vehicle Fuel Source Wheelchair Accessible  \\\n",
      "0              2014.0         BLACK          Bio-Diesel                     N   \n",
      "1              2010.0        SILVER          Bio-Diesel                     N   \n",
      "2              2008.0           RED          Bio-Diesel                     N   \n",
      "3              2010.0        SILVER          Bio-Diesel                     N   \n",
      "4              2008.0           RED          Bio-Diesel                     N   \n",
      "\n",
      "                              Company Name                 Address     City  \\\n",
      "0                CHICAGO PRIVATE TOURS LLC  4567 S. OAKENWALD AVE.  CHICAGO   \n",
      "1  O'HARE-MIDWAY LIMOUSINE SERVICE INC # 2       4610 N. CLARK ST.  CHICAGO   \n",
      "2                 TRT TRANSPORTATION, INC.     4400 S. RACINE AVE.  CHICAGO   \n",
      "3  O'HARE-MIDWAY LIMOUSINE SERVICE INC # 2       4610 N. CLARK ST.  CHICAGO   \n",
      "4                 TRT TRANSPORTATION, INC.     4400 S. RACINE AVE.  CHICAGO   \n",
      "\n",
      "  State  ZIP Code Taxi Affiliation Taxi Medallion License Management   \\\n",
      "0    IL   60653.0              NaN                                NaN   \n",
      "1    IL   60640.0              NaN                                NaN   \n",
      "2    IL   60609.0              NaN                                NaN   \n",
      "3    IL   60640.0              NaN                                NaN   \n",
      "4    IL   60609.0              NaN                                NaN   \n",
      "\n",
      "                  Record ID  \n",
      "0  12009Charter Sightseeing  \n",
      "1  12248Charter Sightseeing  \n",
      "2  13527Charter Sightseeing  \n",
      "3  12248Charter Sightseeing  \n",
      "4  13528Charter Sightseeing  \n",
      "        Unnamed: 0  Public Vehicle Number  Vehicle Model Year      ZIP Code\n",
      "count  16602.00000           1.660200e+04        14660.000000  14816.000000\n",
      "mean    8300.50000           3.854566e+04         2012.669714  60612.519573\n",
      "std     4792.72892           1.372946e+05           83.622806    104.290880\n",
      "min        0.00000           0.000000e+00            0.000000  60004.000000\n",
      "25%     4150.25000           3.633250e+03         2013.000000  60619.000000\n",
      "50%     8300.50000           6.991500e+03         2016.000000  60631.000000\n",
      "75%    12450.75000           1.683925e+04         2021.000000  60646.000000\n",
      "max    16601.00000           6.902206e+06         2025.000000  61111.000000\n",
      "<class 'pandas.core.frame.DataFrame'>\n",
      "RangeIndex: 16602 entries, 0 to 16601\n",
      "Data columns (total 17 columns):\n",
      " #   Column                              Non-Null Count  Dtype  \n",
      "---  ------                              --------------  -----  \n",
      " 0   Unnamed: 0                          16602 non-null  int64  \n",
      " 1   Public Vehicle Number               16602 non-null  int64  \n",
      " 2   Status                              16602 non-null  object \n",
      " 3   Vehicle Make                        14685 non-null  object \n",
      " 4   Vehicle Model                       14639 non-null  object \n",
      " 5   Vehicle Model Year                  14660 non-null  float64\n",
      " 6   Vehicle Color                       14616 non-null  object \n",
      " 7   Vehicle Fuel Source                 16602 non-null  object \n",
      " 8   Wheelchair Accessible               16602 non-null  object \n",
      " 9   Company Name                        16602 non-null  object \n",
      " 10  Address                             14816 non-null  object \n",
      " 11  City                                14816 non-null  object \n",
      " 12  State                               14816 non-null  object \n",
      " 13  ZIP Code                            14816 non-null  float64\n",
      " 14  Taxi Affiliation                    7348 non-null   object \n",
      " 15  Taxi Medallion License Management   7321 non-null   object \n",
      " 16  Record ID                           16602 non-null  object \n",
      "dtypes: float64(2), int64(2), object(13)\n",
      "memory usage: 2.2+ MB\n",
      "None\n"
     ]
    }
   ],
   "source": [
    "#Display Dataframe Structucture and summary\n",
    "vehicles_df = pd.concat(file_list, ignore_index = True)\n",
    "print(vehicles_df.head())\n",
    "print(vehicles_df.describe())\n",
    "print(vehicles_df.info())"
   ]
  },
  {
   "cell_type": "markdown",
   "metadata": {},
   "source": [
    "<h3>Remove the Duplicates</h3>"
   ]
  },
  {
   "cell_type": "code",
   "execution_count": 5,
   "metadata": {},
   "outputs": [
    {
     "name": "stdout",
     "output_type": "stream",
     "text": [
      "<bound method DataFrame.sum of        Unnamed: 0  Public Vehicle Number  Status  Vehicle Make  Vehicle Model  \\\n",
      "0           False                  False   False         False          False   \n",
      "1           False                  False   False         False          False   \n",
      "2           False                  False   False         False          False   \n",
      "3           False                  False   False         False          False   \n",
      "4           False                  False   False         False          False   \n",
      "...           ...                    ...     ...           ...            ...   \n",
      "16597       False                  False   False         False          False   \n",
      "16598       False                  False   False         False          False   \n",
      "16599       False                  False   False         False          False   \n",
      "16600       False                  False   False         False          False   \n",
      "16601       False                  False   False         False          False   \n",
      "\n",
      "       Vehicle Model Year  Vehicle Color  Vehicle Fuel Source  \\\n",
      "0                   False          False                False   \n",
      "1                   False          False                False   \n",
      "2                   False          False                False   \n",
      "3                   False          False                False   \n",
      "4                   False          False                False   \n",
      "...                   ...            ...                  ...   \n",
      "16597               False          False                False   \n",
      "16598               False          False                False   \n",
      "16599               False          False                False   \n",
      "16600               False          False                False   \n",
      "16601               False          False                False   \n",
      "\n",
      "       Wheelchair Accessible  Company Name  Address   City  State  ZIP Code  \\\n",
      "0                      False         False    False  False  False     False   \n",
      "1                      False         False    False  False  False     False   \n",
      "2                      False         False    False  False  False     False   \n",
      "3                      False         False    False  False  False     False   \n",
      "4                      False         False    False  False  False     False   \n",
      "...                      ...           ...      ...    ...    ...       ...   \n",
      "16597                  False         False    False  False  False     False   \n",
      "16598                  False         False    False  False  False     False   \n",
      "16599                  False         False    False  False  False     False   \n",
      "16600                  False         False    False  False  False     False   \n",
      "16601                  False         False    False  False  False     False   \n",
      "\n",
      "       Taxi Affiliation  Taxi Medallion License Management   Record ID  \n",
      "0                  True                                True      False  \n",
      "1                  True                                True      False  \n",
      "2                  True                                True      False  \n",
      "3                  True                                True      False  \n",
      "4                  True                                True      False  \n",
      "...                 ...                                 ...        ...  \n",
      "16597              True                                True      False  \n",
      "16598              True                                True      False  \n",
      "16599              True                                True      False  \n",
      "16600              True                                True      False  \n",
      "16601              True                                True      False  \n",
      "\n",
      "[16602 rows x 17 columns]>\n"
     ]
    }
   ],
   "source": [
    "#Remove duplicates\n",
    "vehicles_df.drop_duplicates(inplace=True)\n",
    "#Check null values\n",
    "print(vehicles_df.isnull().sum)"
   ]
  },
  {
   "cell_type": "markdown",
   "metadata": {},
   "source": [
    "<h3> Droping the colomns with null values </h3>\n",
    "   <ul>\n",
    "       <li>Columns with more than 50% missing values often lack sufficient information to be meaningful or useful in analysis.</li>\n",
    "   </ul>"
   ]
  },
  {
   "cell_type": "code",
   "execution_count": 6,
   "metadata": {},
   "outputs": [
    {
     "name": "stdout",
     "output_type": "stream",
     "text": [
      "Dropped columns with more than 50% null values.\n",
      "<class 'pandas.core.frame.DataFrame'>\n",
      "RangeIndex: 16602 entries, 0 to 16601\n",
      "Data columns (total 15 columns):\n",
      " #   Column                 Non-Null Count  Dtype  \n",
      "---  ------                 --------------  -----  \n",
      " 0   Unnamed: 0             16602 non-null  int64  \n",
      " 1   Public Vehicle Number  16602 non-null  int64  \n",
      " 2   Status                 16602 non-null  object \n",
      " 3   Vehicle Make           14685 non-null  object \n",
      " 4   Vehicle Model          14639 non-null  object \n",
      " 5   Vehicle Model Year     14660 non-null  float64\n",
      " 6   Vehicle Color          14616 non-null  object \n",
      " 7   Vehicle Fuel Source    16602 non-null  object \n",
      " 8   Wheelchair Accessible  16602 non-null  object \n",
      " 9   Company Name           16602 non-null  object \n",
      " 10  Address                14816 non-null  object \n",
      " 11  City                   14816 non-null  object \n",
      " 12  State                  14816 non-null  object \n",
      " 13  ZIP Code               14816 non-null  float64\n",
      " 14  Record ID              16602 non-null  object \n",
      "dtypes: float64(2), int64(2), object(11)\n",
      "memory usage: 1.9+ MB\n",
      "None\n"
     ]
    }
   ],
   "source": [
    "threshold = 0.5  # Set the threshold for dropping columns\n",
    "vehicles_df = vehicles_df.loc[:, vehicles_df.isnull().mean() < threshold]\n",
    "print(\"Dropped columns with more than 50% null values.\")\n",
    "print(vehicles_df.info())"
   ]
  },
  {
   "cell_type": "markdown",
   "metadata": {},
   "source": [
    "<h3>Identify Outliers</h3>\n",
    " <ul>\n",
    "       <li>Clean the data by removing outliers because outliers can distort statistical analysis </li>\n",
    "   </ul>"
   ]
  },
  {
   "cell_type": "code",
   "execution_count": 7,
   "metadata": {},
   "outputs": [],
   "source": [
    "import numpy as np\n",
    "for column in vehicles_df.select_dtypes(include=np.number).columns:\n",
    "    Q1 = vehicles_df[column].quantile(0.25)\n",
    "    Q3 = vehicles_df[column].quantile(0.75)\n",
    "    IQR = Q3 - Q1\n",
    "    lower_bound = Q1 - 1.5 * IQR\n",
    "    upper_bound = Q3 + 1.5 * IQR\n",
    "\n",
    "    vehicles_df.loc[(vehicles_df[column] < lower_bound) | (vehicles_df[column] > upper_bound), column] = np.nan"
   ]
  },
  {
   "cell_type": "markdown",
   "metadata": {},
   "source": [
    "<ul>\n",
    "    <li>Filling missing numeric values with median and missing categorical values with mode</li>\n",
    "</ul>"
   ]
  },
  {
   "cell_type": "code",
   "execution_count": 8,
   "metadata": {},
   "outputs": [
    {
     "name": "stderr",
     "output_type": "stream",
     "text": [
      "C:\\Users\\USER\\AppData\\Local\\Temp\\ipykernel_10076\\3102936380.py:4: FutureWarning: A value is trying to be set on a copy of a DataFrame or Series through chained assignment using an inplace method.\n",
      "The behavior will change in pandas 3.0. This inplace method will never work because the intermediate object on which we are setting values always behaves as a copy.\n",
      "\n",
      "For example, when doing 'df[col].method(value, inplace=True)', try using 'df.method({col: value}, inplace=True)' or df[col] = df[col].method(value) instead, to perform the operation inplace on the original object.\n",
      "\n",
      "\n",
      "  vehicles_df[col].fillna(vehicles_df[col].mode()[0], inplace=True)\n"
     ]
    }
   ],
   "source": [
    "vehicles_df.fillna(vehicles_df.median(numeric_only=True), inplace=True)\n",
    "\n",
    "for col in vehicles_df.select_dtypes(include=['object']).columns:\n",
    "    vehicles_df[col].fillna(vehicles_df[col].mode()[0], inplace=True)"
   ]
  },
  {
   "cell_type": "markdown",
   "metadata": {},
   "source": [
    "<h3> Extracts the first sequence of alphabetic characters from Record ID column and saves it in new column called Vehicle Type</h3>"
   ]
  },
  {
   "cell_type": "code",
   "execution_count": 9,
   "metadata": {},
   "outputs": [
    {
     "name": "stdout",
     "output_type": "stream",
     "text": [
      "                  Record ID Vehicle Type\n",
      "0  12009Charter Sightseeing      Charter\n",
      "1  12248Charter Sightseeing      Charter\n",
      "2  13527Charter Sightseeing      Charter\n",
      "3  12248Charter Sightseeing      Charter\n",
      "4  13528Charter Sightseeing      Charter\n"
     ]
    }
   ],
   "source": [
    "vehicles_df['Vehicle Type'] = vehicles_df['Record ID'].str.extract(r'([A-Za-z]+)')\n",
    "# Print the updated DataFrame\n",
    "print(vehicles_df[['Record ID', 'Vehicle Type']].head())"
   ]
  },
  {
   "cell_type": "markdown",
   "metadata": {},
   "source": [
    "<h3> Drop Specific Columns </h3>"
   ]
  },
  {
   "cell_type": "code",
<<<<<<< Updated upstream
   "execution_count": 13,
=======
   "execution_count": 10,
>>>>>>> Stashed changes
   "metadata": {},
   "outputs": [
    {
     "ename": "KeyError",
     "evalue": "\"['Address', 'Public Vehicle Number'] not found in axis\"",
     "output_type": "error",
     "traceback": [
      "\u001b[1;31m---------------------------------------------------------------------------\u001b[0m",
      "\u001b[1;31mKeyError\u001b[0m                                  Traceback (most recent call last)",
      "Cell \u001b[1;32mIn[13], line 2\u001b[0m\n\u001b[0;32m      1\u001b[0m \u001b[38;5;66;03m# Drop specific columns\u001b[39;00m\n\u001b[1;32m----> 2\u001b[0m \u001b[43mvehicles_df\u001b[49m\u001b[38;5;241;43m.\u001b[39;49m\u001b[43mdrop\u001b[49m\u001b[43m(\u001b[49m\u001b[43mcolumns\u001b[49m\u001b[38;5;241;43m=\u001b[39;49m\u001b[43m[\u001b[49m\u001b[38;5;124;43m'\u001b[39;49m\u001b[38;5;124;43mAddress\u001b[39;49m\u001b[38;5;124;43m'\u001b[39;49m\u001b[43m,\u001b[49m\u001b[43m \u001b[49m\u001b[38;5;124;43m'\u001b[39;49m\u001b[38;5;124;43mPublic Vehicle Number\u001b[39;49m\u001b[38;5;124;43m'\u001b[39;49m\u001b[43m]\u001b[49m\u001b[43m,\u001b[49m\u001b[43m \u001b[49m\u001b[43minplace\u001b[49m\u001b[38;5;241;43m=\u001b[39;49m\u001b[38;5;28;43;01mTrue\u001b[39;49;00m\u001b[43m)\u001b[49m\n",
      "File \u001b[1;32mc:\\Users\\USER\\AppData\\Local\\Programs\\Python\\Python312\\Lib\\site-packages\\pandas\\core\\frame.py:5581\u001b[0m, in \u001b[0;36mDataFrame.drop\u001b[1;34m(self, labels, axis, index, columns, level, inplace, errors)\u001b[0m\n\u001b[0;32m   5433\u001b[0m \u001b[38;5;28;01mdef\u001b[39;00m \u001b[38;5;21mdrop\u001b[39m(\n\u001b[0;32m   5434\u001b[0m     \u001b[38;5;28mself\u001b[39m,\n\u001b[0;32m   5435\u001b[0m     labels: IndexLabel \u001b[38;5;241m|\u001b[39m \u001b[38;5;28;01mNone\u001b[39;00m \u001b[38;5;241m=\u001b[39m \u001b[38;5;28;01mNone\u001b[39;00m,\n\u001b[1;32m   (...)\u001b[0m\n\u001b[0;32m   5442\u001b[0m     errors: IgnoreRaise \u001b[38;5;241m=\u001b[39m \u001b[38;5;124m\"\u001b[39m\u001b[38;5;124mraise\u001b[39m\u001b[38;5;124m\"\u001b[39m,\n\u001b[0;32m   5443\u001b[0m ) \u001b[38;5;241m-\u001b[39m\u001b[38;5;241m>\u001b[39m DataFrame \u001b[38;5;241m|\u001b[39m \u001b[38;5;28;01mNone\u001b[39;00m:\n\u001b[0;32m   5444\u001b[0m \u001b[38;5;250m    \u001b[39m\u001b[38;5;124;03m\"\"\"\u001b[39;00m\n\u001b[0;32m   5445\u001b[0m \u001b[38;5;124;03m    Drop specified labels from rows or columns.\u001b[39;00m\n\u001b[0;32m   5446\u001b[0m \n\u001b[1;32m   (...)\u001b[0m\n\u001b[0;32m   5579\u001b[0m \u001b[38;5;124;03m            weight  1.0     0.8\u001b[39;00m\n\u001b[0;32m   5580\u001b[0m \u001b[38;5;124;03m    \"\"\"\u001b[39;00m\n\u001b[1;32m-> 5581\u001b[0m     \u001b[38;5;28;01mreturn\u001b[39;00m \u001b[38;5;28;43msuper\u001b[39;49m\u001b[43m(\u001b[49m\u001b[43m)\u001b[49m\u001b[38;5;241;43m.\u001b[39;49m\u001b[43mdrop\u001b[49m\u001b[43m(\u001b[49m\n\u001b[0;32m   5582\u001b[0m \u001b[43m        \u001b[49m\u001b[43mlabels\u001b[49m\u001b[38;5;241;43m=\u001b[39;49m\u001b[43mlabels\u001b[49m\u001b[43m,\u001b[49m\n\u001b[0;32m   5583\u001b[0m \u001b[43m        \u001b[49m\u001b[43maxis\u001b[49m\u001b[38;5;241;43m=\u001b[39;49m\u001b[43maxis\u001b[49m\u001b[43m,\u001b[49m\n\u001b[0;32m   5584\u001b[0m \u001b[43m        \u001b[49m\u001b[43mindex\u001b[49m\u001b[38;5;241;43m=\u001b[39;49m\u001b[43mindex\u001b[49m\u001b[43m,\u001b[49m\n\u001b[0;32m   5585\u001b[0m \u001b[43m        \u001b[49m\u001b[43mcolumns\u001b[49m\u001b[38;5;241;43m=\u001b[39;49m\u001b[43mcolumns\u001b[49m\u001b[43m,\u001b[49m\n\u001b[0;32m   5586\u001b[0m \u001b[43m        \u001b[49m\u001b[43mlevel\u001b[49m\u001b[38;5;241;43m=\u001b[39;49m\u001b[43mlevel\u001b[49m\u001b[43m,\u001b[49m\n\u001b[0;32m   5587\u001b[0m \u001b[43m        \u001b[49m\u001b[43minplace\u001b[49m\u001b[38;5;241;43m=\u001b[39;49m\u001b[43minplace\u001b[49m\u001b[43m,\u001b[49m\n\u001b[0;32m   5588\u001b[0m \u001b[43m        \u001b[49m\u001b[43merrors\u001b[49m\u001b[38;5;241;43m=\u001b[39;49m\u001b[43merrors\u001b[49m\u001b[43m,\u001b[49m\n\u001b[0;32m   5589\u001b[0m \u001b[43m    \u001b[49m\u001b[43m)\u001b[49m\n",
      "File \u001b[1;32mc:\\Users\\USER\\AppData\\Local\\Programs\\Python\\Python312\\Lib\\site-packages\\pandas\\core\\generic.py:4788\u001b[0m, in \u001b[0;36mNDFrame.drop\u001b[1;34m(self, labels, axis, index, columns, level, inplace, errors)\u001b[0m\n\u001b[0;32m   4786\u001b[0m \u001b[38;5;28;01mfor\u001b[39;00m axis, labels \u001b[38;5;129;01min\u001b[39;00m axes\u001b[38;5;241m.\u001b[39mitems():\n\u001b[0;32m   4787\u001b[0m     \u001b[38;5;28;01mif\u001b[39;00m labels \u001b[38;5;129;01mis\u001b[39;00m \u001b[38;5;129;01mnot\u001b[39;00m \u001b[38;5;28;01mNone\u001b[39;00m:\n\u001b[1;32m-> 4788\u001b[0m         obj \u001b[38;5;241m=\u001b[39m \u001b[43mobj\u001b[49m\u001b[38;5;241;43m.\u001b[39;49m\u001b[43m_drop_axis\u001b[49m\u001b[43m(\u001b[49m\u001b[43mlabels\u001b[49m\u001b[43m,\u001b[49m\u001b[43m \u001b[49m\u001b[43maxis\u001b[49m\u001b[43m,\u001b[49m\u001b[43m \u001b[49m\u001b[43mlevel\u001b[49m\u001b[38;5;241;43m=\u001b[39;49m\u001b[43mlevel\u001b[49m\u001b[43m,\u001b[49m\u001b[43m \u001b[49m\u001b[43merrors\u001b[49m\u001b[38;5;241;43m=\u001b[39;49m\u001b[43merrors\u001b[49m\u001b[43m)\u001b[49m\n\u001b[0;32m   4790\u001b[0m \u001b[38;5;28;01mif\u001b[39;00m inplace:\n\u001b[0;32m   4791\u001b[0m     \u001b[38;5;28mself\u001b[39m\u001b[38;5;241m.\u001b[39m_update_inplace(obj)\n",
      "File \u001b[1;32mc:\\Users\\USER\\AppData\\Local\\Programs\\Python\\Python312\\Lib\\site-packages\\pandas\\core\\generic.py:4830\u001b[0m, in \u001b[0;36mNDFrame._drop_axis\u001b[1;34m(self, labels, axis, level, errors, only_slice)\u001b[0m\n\u001b[0;32m   4828\u001b[0m         new_axis \u001b[38;5;241m=\u001b[39m axis\u001b[38;5;241m.\u001b[39mdrop(labels, level\u001b[38;5;241m=\u001b[39mlevel, errors\u001b[38;5;241m=\u001b[39merrors)\n\u001b[0;32m   4829\u001b[0m     \u001b[38;5;28;01melse\u001b[39;00m:\n\u001b[1;32m-> 4830\u001b[0m         new_axis \u001b[38;5;241m=\u001b[39m \u001b[43maxis\u001b[49m\u001b[38;5;241;43m.\u001b[39;49m\u001b[43mdrop\u001b[49m\u001b[43m(\u001b[49m\u001b[43mlabels\u001b[49m\u001b[43m,\u001b[49m\u001b[43m \u001b[49m\u001b[43merrors\u001b[49m\u001b[38;5;241;43m=\u001b[39;49m\u001b[43merrors\u001b[49m\u001b[43m)\u001b[49m\n\u001b[0;32m   4831\u001b[0m     indexer \u001b[38;5;241m=\u001b[39m axis\u001b[38;5;241m.\u001b[39mget_indexer(new_axis)\n\u001b[0;32m   4833\u001b[0m \u001b[38;5;66;03m# Case for non-unique axis\u001b[39;00m\n\u001b[0;32m   4834\u001b[0m \u001b[38;5;28;01melse\u001b[39;00m:\n",
      "File \u001b[1;32mc:\\Users\\USER\\AppData\\Local\\Programs\\Python\\Python312\\Lib\\site-packages\\pandas\\core\\indexes\\base.py:7070\u001b[0m, in \u001b[0;36mIndex.drop\u001b[1;34m(self, labels, errors)\u001b[0m\n\u001b[0;32m   7068\u001b[0m \u001b[38;5;28;01mif\u001b[39;00m mask\u001b[38;5;241m.\u001b[39many():\n\u001b[0;32m   7069\u001b[0m     \u001b[38;5;28;01mif\u001b[39;00m errors \u001b[38;5;241m!=\u001b[39m \u001b[38;5;124m\"\u001b[39m\u001b[38;5;124mignore\u001b[39m\u001b[38;5;124m\"\u001b[39m:\n\u001b[1;32m-> 7070\u001b[0m         \u001b[38;5;28;01mraise\u001b[39;00m \u001b[38;5;167;01mKeyError\u001b[39;00m(\u001b[38;5;124mf\u001b[39m\u001b[38;5;124m\"\u001b[39m\u001b[38;5;132;01m{\u001b[39;00mlabels[mask]\u001b[38;5;241m.\u001b[39mtolist()\u001b[38;5;132;01m}\u001b[39;00m\u001b[38;5;124m not found in axis\u001b[39m\u001b[38;5;124m\"\u001b[39m)\n\u001b[0;32m   7071\u001b[0m     indexer \u001b[38;5;241m=\u001b[39m indexer[\u001b[38;5;241m~\u001b[39mmask]\n\u001b[0;32m   7072\u001b[0m \u001b[38;5;28;01mreturn\u001b[39;00m \u001b[38;5;28mself\u001b[39m\u001b[38;5;241m.\u001b[39mdelete(indexer)\n",
      "\u001b[1;31mKeyError\u001b[0m: \"['Address', 'Public Vehicle Number'] not found in axis\""
     ]
    }
   ],
   "source": [
    "# Drop specific columns\n",
    "vehicles_df.drop(columns=['Address', 'Public Vehicle Number'], inplace=True)\n"
   ]
  },
  {
   "cell_type": "markdown",
   "metadata": {},
   "source": [
    "<h3>Compare the Resultant Data</h3>"
   ]
  },
  {
   "cell_type": "code",
   "execution_count": 11,
   "metadata": {},
   "outputs": [
    {
     "name": "stdout",
     "output_type": "stream",
     "text": [
      "<class 'pandas.core.frame.DataFrame'>\n",
      "RangeIndex: 16602 entries, 0 to 16601\n",
      "Data columns (total 14 columns):\n",
      " #   Column                 Non-Null Count  Dtype  \n",
      "---  ------                 --------------  -----  \n",
      " 0   Unnamed: 0             16602 non-null  float64\n",
      " 1   Status                 16602 non-null  object \n",
      " 2   Vehicle Make           16602 non-null  object \n",
      " 3   Vehicle Model          16602 non-null  object \n",
      " 4   Vehicle Model Year     16602 non-null  float64\n",
      " 5   Vehicle Color          16602 non-null  object \n",
      " 6   Vehicle Fuel Source    16602 non-null  object \n",
      " 7   Wheelchair Accessible  16602 non-null  object \n",
      " 8   Company Name           16602 non-null  object \n",
      " 9   City                   16602 non-null  object \n",
      " 10  State                  16602 non-null  object \n",
      " 11  ZIP Code               16602 non-null  float64\n",
      " 12  Record ID              16602 non-null  object \n",
      " 13  Vehicle Type           16602 non-null  object \n",
      "dtypes: float64(3), object(11)\n",
      "memory usage: 1.8+ MB\n",
      "None\n",
      "   Unnamed: 0    Status Vehicle Make Vehicle Model  Vehicle Model Year  \\\n",
      "0      1286.0  RESERVED    CHEVROLET       EXPRESS              2014.0   \n",
      "1      2095.0  INACTIVE     MERCEDES      SPRINTER              2010.0   \n",
      "2      7950.0  INACTIVE     VAN HOOL         TD925              2008.0   \n",
      "3      8700.0  INACTIVE     MERCEDES      SPRINTER              2010.0   \n",
      "4      9359.0  INACTIVE     VAN HOOL         TD925              2008.0   \n",
      "\n",
      "  Vehicle Color Vehicle Fuel Source Wheelchair Accessible  \\\n",
      "0         BLACK          Bio-Diesel                     N   \n",
      "1        SILVER          Bio-Diesel                     N   \n",
      "2           RED          Bio-Diesel                     N   \n",
      "3        SILVER          Bio-Diesel                     N   \n",
      "4           RED          Bio-Diesel                     N   \n",
      "\n",
      "                              Company Name     City State  ZIP Code  \\\n",
      "0                CHICAGO PRIVATE TOURS LLC  CHICAGO    IL   60653.0   \n",
      "1  O'HARE-MIDWAY LIMOUSINE SERVICE INC # 2  CHICAGO    IL   60640.0   \n",
      "2                 TRT TRANSPORTATION, INC.  CHICAGO    IL   60609.0   \n",
      "3  O'HARE-MIDWAY LIMOUSINE SERVICE INC # 2  CHICAGO    IL   60640.0   \n",
      "4                 TRT TRANSPORTATION, INC.  CHICAGO    IL   60609.0   \n",
      "\n",
      "                  Record ID Vehicle Type  \n",
      "0  12009Charter Sightseeing      Charter  \n",
      "1  12248Charter Sightseeing      Charter  \n",
      "2  13527Charter Sightseeing      Charter  \n",
      "3  12248Charter Sightseeing      Charter  \n",
      "4  13528Charter Sightseeing      Charter  \n"
     ]
    }
   ],
   "source": [
    "print(vehicles_df.info())\n",
    "print(vehicles_df.head())"
   ]
  },
  {
   "cell_type": "markdown",
   "metadata": {},
   "source": [
<<<<<<< Updated upstream
    "<h3> Cleaned Dataset extracted to CSV File </h3>"
=======
    "<h3>Cleaned Dataset saved as CSV File </h3> "
>>>>>>> Stashed changes
   ]
  },
  {
   "cell_type": "code",
<<<<<<< Updated upstream
   "execution_count": null,
   "metadata": {},
   "outputs": [],
   "source": [
    "# Save the cleaned DataFrame to a CSV file\n",
    "output_file = \"./Cleaned_PassengerVehicle_Stats2.csv\"  # Specify the desired file path\n",
=======
   "execution_count": 12,
   "metadata": {},
   "outputs": [
    {
     "name": "stdout",
     "output_type": "stream",
     "text": [
      "Cleaned DataFrame saved to ./Cleaned_PassengerVehicle_Stats.csv\n"
     ]
    }
   ],
   "source": [
    "# Save the cleaned DataFrame to a CSV file\n",
    "output_file = \"./Cleaned_PassengerVehicle_Stats.csv\"  # Specify the desired file path\n",
>>>>>>> Stashed changes
    "vehicles_df.to_csv(output_file, index=False)\n",
    "\n",
    "print(f\"Cleaned DataFrame saved to {output_file}\")\n"
   ]
  }
 ],
 "metadata": {
  "kernelspec": {
   "display_name": "Python 3",
   "language": "python",
   "name": "python3"
  },
  "language_info": {
   "codemirror_mode": {
    "name": "ipython",
    "version": 3
   },
   "file_extension": ".py",
   "mimetype": "text/x-python",
   "name": "python",
   "nbconvert_exporter": "python",
   "pygments_lexer": "ipython3",
   "version": "3.12.3"
  }
 },
 "nbformat": 4,
 "nbformat_minor": 4
}
