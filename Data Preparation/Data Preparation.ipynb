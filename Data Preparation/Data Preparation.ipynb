{
 "cells": [
  {
   "cell_type": "markdown",
   "metadata": {},
   "source": [
    "<h1>Data Preparation</h1>"
   ]
  },
  {
   "cell_type": "markdown",
   "metadata": {},
   "source": [
    "<h2>Importing pandas module</h2>"
   ]
  },
  {
   "cell_type": "code",
   "execution_count": 1,
   "metadata": {},
   "outputs": [],
   "source": [
    "import pandas as pd"
   ]
  },
  {
   "cell_type": "markdown",
   "metadata": {},
   "source": [
    "<h2>Reading and combining data</h2>"
   ]
  },
  {
   "cell_type": "markdown",
   "metadata": {},
   "source": [
    "<h3>Creating a list that contains csv file names</h3>"
   ]
  },
  {
   "cell_type": "code",
   "execution_count": 2,
   "metadata": {},
   "outputs": [],
   "source": [
    "csv_files = [\n",
    "    \"Bio-Diesel_PassengerVehicle_Stats.csv\",\n",
    "    \"Compressed Natural Gas_PassengerVehicle_Stats.csv\",\n",
    "    \"Diesel_PassengerVehicle_Stats.csv\",\n",
    "    \"Electric_PassengerVehicle_Stats.csv\",\n",
    "    \"Flex Fuel_PassengerVehicle_Stats.csv\",\n",
    "    \"Gasoline_PassengerVehicle_Stats.csv\",\n",
    "    \"Horse_PassengerVehicle_Stats.csv\",\n",
    "    \"Hybrid_PassengerVehicle_Stats.csv\",\n",
    "    \"Pedal_PassengerVehicle_Stats.csv\",\n",
    "]"
   ]
  },
  {
   "cell_type": "markdown",
   "metadata": {},
   "source": [
    "<h3>Loading all 9 csv files into a list</h3>"
   ]
  },
  {
   "cell_type": "code",
   "execution_count": 3,
   "metadata": {},
   "outputs": [
    {
     "name": "stdout",
     "output_type": "stream",
     "text": [
      "Loaded Bio-Diesel_PassengerVehicle_Stats.csv successfully.\n",
      "Loaded Compressed Natural Gas_PassengerVehicle_Stats.csv successfully.\n",
      "Loaded Diesel_PassengerVehicle_Stats.csv successfully.\n",
      "Loaded Electric_PassengerVehicle_Stats.csv successfully.\n",
      "Loaded Flex Fuel_PassengerVehicle_Stats.csv successfully.\n",
      "Loaded Gasoline_PassengerVehicle_Stats.csv successfully.\n",
      "Loaded Horse_PassengerVehicle_Stats.csv successfully.\n",
      "Loaded Hybrid_PassengerVehicle_Stats.csv successfully.\n",
      "Loaded Pedal_PassengerVehicle_Stats.csv successfully.\n",
      "9\n"
     ]
    }
   ],
   "source": [
    "# Load all files into a list\n",
    "file_list = [] \n",
    "for file in csv_files:\n",
    "    try:\n",
    "        df = pd.read_csv(file)\n",
    "        file_list.append(df)\n",
    "        print(f\"Loaded {file} successfully.\")\n",
    "    except FileNotFoundError:\n",
    "        print(f\"File {file} not found. Please check the file path.\")\n",
    "    except Exception as e:\n",
    "        print(f\"An error occurred while loading {file}: {e}\")\n",
    "print(len(file_list))"
   ]
  }
 ],
 "metadata": {
  "kernelspec": {
   "display_name": "Python 3",
   "language": "python",
   "name": "python3"
  },
  "language_info": {
   "codemirror_mode": {
    "name": "ipython",
    "version": 3
   },
   "file_extension": ".py",
   "mimetype": "text/x-python",
   "name": "python",
   "nbconvert_exporter": "python",
   "pygments_lexer": "ipython3",
   "version": "3.12.4"
  }
 },
 "nbformat": 4,
 "nbformat_minor": 2
}
