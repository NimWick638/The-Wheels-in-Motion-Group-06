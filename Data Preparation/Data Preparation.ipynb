{
 "cells": [
  {
   "cell_type": "markdown",
   "metadata": {},
   "source": [
    "<h1>Data Preparation</h1>"
   ]
  },
  {
   "cell_type": "markdown",
   "metadata": {},
   "source": [
    "<h2>Importing pandas module</h2>"
   ]
  },
  {
   "cell_type": "code",
   "execution_count": 1,
   "metadata": {},
   "outputs": [],
   "source": [
    "import pandas as pd"
   ]
  },
  {
   "cell_type": "markdown",
   "metadata": {},
   "source": [
    "<h2>Reading and combining data</h2>"
   ]
  },
  {
   "cell_type": "markdown",
   "metadata": {},
   "source": [
    "<h3>Creating a list that contains csv file names</h3>"
   ]
  },
  {
   "cell_type": "code",
   "execution_count": 2,
   "metadata": {},
   "outputs": [],
   "source": [
    "csv_files = [\n",
    "    \"Bio-Diesel_PassengerVehicle_Stats.csv\",\n",
    "    \"Compressed Natural Gas_PassengerVehicle_Stats.csv\",\n",
    "    \"Diesel_PassengerVehicle_Stats.csv\",\n",
    "    \"Electric_PassengerVehicle_Stats.csv\",\n",
    "    \"Flex Fuel_PassengerVehicle_Stats.csv\",\n",
    "    \"Gasoline_PassengerVehicle_Stats.csv\",\n",
    "    \"Horse_PassengerVehicle_Stats.csv\",\n",
    "    \"Hybrid_PassengerVehicle_Stats.csv\",\n",
    "    \"Pedal_PassengerVehicle_Stats.csv\",\n",
    "]"
   ]
  },
  {
   "cell_type": "markdown",
   "metadata": {},
   "source": [
    "<h3>Loading all 9 csv files into a list</h3>"
   ]
  },
  {
   "cell_type": "code",
   "execution_count": 3,
   "metadata": {},
   "outputs": [
    {
     "name": "stdout",
     "output_type": "stream",
     "text": [
      "Loaded Bio-Diesel_PassengerVehicle_Stats.csv successfully.\n",
      "Loaded Compressed Natural Gas_PassengerVehicle_Stats.csv successfully.\n",
      "Loaded Diesel_PassengerVehicle_Stats.csv successfully.\n",
      "Loaded Electric_PassengerVehicle_Stats.csv successfully.\n",
      "Loaded Flex Fuel_PassengerVehicle_Stats.csv successfully.\n",
      "Loaded Gasoline_PassengerVehicle_Stats.csv successfully.\n",
      "Loaded Horse_PassengerVehicle_Stats.csv successfully.\n",
      "Loaded Hybrid_PassengerVehicle_Stats.csv successfully.\n",
      "Loaded Pedal_PassengerVehicle_Stats.csv successfully.\n",
      "9\n"
     ]
    }
   ],
   "source": [
    "# Load all files into a list\n",
    "file_list = [] \n",
    "for file in csv_files:\n",
    "    try:\n",
    "        df = pd.read_csv(file)\n",
    "        file_list.append(df)\n",
    "        print(f\"Loaded {file} successfully.\")\n",
    "    except FileNotFoundError:\n",
    "        print(f\"File {file} not found. Please check the file path.\")\n",
    "    except Exception as e:\n",
    "        print(f\"An error occurred while loading {file}: {e}\")\n",
    "print(len(file_list))"
   ]
  },
  {
   "cell_type": "markdown",
   "metadata": {},
   "source": [
    "<h3>Concatenate files and Display the dataframe structure</h3>"
   ]
  },
  {
   "cell_type": "code",
   "execution_count": 4,
   "metadata": {},
   "outputs": [
    {
     "name": "stdout",
     "output_type": "stream",
     "text": [
      "   Unnamed: 0  Public Vehicle Number    Status Vehicle Make Vehicle Model  \\\n",
      "0        1286                  12009  RESERVED    CHEVROLET       EXPRESS   \n",
      "1        2095                  12248  INACTIVE     MERCEDES      SPRINTER   \n",
      "2        7950                  13527  INACTIVE     VAN HOOL         TD925   \n",
      "3        8700                  12248  INACTIVE     MERCEDES      SPRINTER   \n",
      "4        9359                  13528  INACTIVE     VAN HOOL         TD925   \n",
      "\n",
      "   Vehicle Model Year Vehicle Color Vehicle Fuel Source Wheelchair Accessible  \\\n",
      "0              2014.0         BLACK          Bio-Diesel                     N   \n",
      "1              2010.0        SILVER          Bio-Diesel                     N   \n",
      "2              2008.0           RED          Bio-Diesel                     N   \n",
      "3              2010.0        SILVER          Bio-Diesel                     N   \n",
      "4              2008.0           RED          Bio-Diesel                     N   \n",
      "\n",
      "                              Company Name                 Address     City  \\\n",
      "0                CHICAGO PRIVATE TOURS LLC  4567 S. OAKENWALD AVE.  CHICAGO   \n",
      "1  O'HARE-MIDWAY LIMOUSINE SERVICE INC # 2       4610 N. CLARK ST.  CHICAGO   \n",
      "2                 TRT TRANSPORTATION, INC.     4400 S. RACINE AVE.  CHICAGO   \n",
      "3  O'HARE-MIDWAY LIMOUSINE SERVICE INC # 2       4610 N. CLARK ST.  CHICAGO   \n",
      "4                 TRT TRANSPORTATION, INC.     4400 S. RACINE AVE.  CHICAGO   \n",
      "\n",
      "  State  ZIP Code Taxi Affiliation Taxi Medallion License Management   \\\n",
      "0    IL   60653.0              NaN                                NaN   \n",
      "1    IL   60640.0              NaN                                NaN   \n",
      "2    IL   60609.0              NaN                                NaN   \n",
      "3    IL   60640.0              NaN                                NaN   \n",
      "4    IL   60609.0              NaN                                NaN   \n",
      "\n",
      "                  Record ID  \n",
      "0  12009Charter Sightseeing  \n",
      "1  12248Charter Sightseeing  \n",
      "2  13527Charter Sightseeing  \n",
      "3  12248Charter Sightseeing  \n",
      "4  13528Charter Sightseeing  \n",
      "        Unnamed: 0  Public Vehicle Number  Vehicle Model Year      ZIP Code\n",
      "count  16602.00000           1.660200e+04        14660.000000  14816.000000\n",
      "mean    8300.50000           3.854566e+04         2012.669714  60612.519573\n",
      "std     4792.72892           1.372946e+05           83.622806    104.290880\n",
      "min        0.00000           0.000000e+00            0.000000  60004.000000\n",
      "25%     4150.25000           3.633250e+03         2013.000000  60619.000000\n",
      "50%     8300.50000           6.991500e+03         2016.000000  60631.000000\n",
      "75%    12450.75000           1.683925e+04         2021.000000  60646.000000\n",
      "max    16601.00000           6.902206e+06         2025.000000  61111.000000\n",
      "<class 'pandas.core.frame.DataFrame'>\n",
      "RangeIndex: 16602 entries, 0 to 16601\n",
      "Data columns (total 17 columns):\n",
      " #   Column                              Non-Null Count  Dtype  \n",
      "---  ------                              --------------  -----  \n",
      " 0   Unnamed: 0                          16602 non-null  int64  \n",
      " 1   Public Vehicle Number               16602 non-null  int64  \n",
      " 2   Status                              16602 non-null  object \n",
      " 3   Vehicle Make                        14685 non-null  object \n",
      " 4   Vehicle Model                       14639 non-null  object \n",
      " 5   Vehicle Model Year                  14660 non-null  float64\n",
      " 6   Vehicle Color                       14616 non-null  object \n",
      " 7   Vehicle Fuel Source                 16602 non-null  object \n",
      " 8   Wheelchair Accessible               16602 non-null  object \n",
      " 9   Company Name                        16602 non-null  object \n",
      " 10  Address                             14816 non-null  object \n",
      " 11  City                                14816 non-null  object \n",
      " 12  State                               14816 non-null  object \n",
      " 13  ZIP Code                            14816 non-null  float64\n",
      " 14  Taxi Affiliation                    7348 non-null   object \n",
      " 15  Taxi Medallion License Management   7321 non-null   object \n",
      " 16  Record ID                           16602 non-null  object \n",
      "dtypes: float64(2), int64(2), object(13)\n",
      "memory usage: 2.2+ MB\n",
      "None\n"
     ]
    }
   ],
   "source": [
    "#Display Dataframe Structucture and summary\n",
    "vehicles_df = pd.concat(file_list, ignore_index = True)\n",
    "print(vehicles_df.head())\n",
    "print(vehicles_df.describe())\n",
    "print(vehicles_df.info())"
   ]
  },
  {
   "cell_type": "markdown",
   "metadata": {},
   "source": [
    "<h3>Remove the Duplicates</h3>"
   ]
  },
  {
   "cell_type": "code",
   "execution_count": 5,
   "metadata": {},
   "outputs": [
    {
     "name": "stdout",
     "output_type": "stream",
     "text": [
      "<bound method DataFrame.sum of        Unnamed: 0  Public Vehicle Number  Status  Vehicle Make  Vehicle Model  \\\n",
      "0           False                  False   False         False          False   \n",
      "1           False                  False   False         False          False   \n",
      "2           False                  False   False         False          False   \n",
      "3           False                  False   False         False          False   \n",
      "4           False                  False   False         False          False   \n",
      "...           ...                    ...     ...           ...            ...   \n",
      "16597       False                  False   False         False          False   \n",
      "16598       False                  False   False         False          False   \n",
      "16599       False                  False   False         False          False   \n",
      "16600       False                  False   False         False          False   \n",
      "16601       False                  False   False         False          False   \n",
      "\n",
      "       Vehicle Model Year  Vehicle Color  Vehicle Fuel Source  \\\n",
      "0                   False          False                False   \n",
      "1                   False          False                False   \n",
      "2                   False          False                False   \n",
      "3                   False          False                False   \n",
      "4                   False          False                False   \n",
      "...                   ...            ...                  ...   \n",
      "16597               False          False                False   \n",
      "16598               False          False                False   \n",
      "16599               False          False                False   \n",
      "16600               False          False                False   \n",
      "16601               False          False                False   \n",
      "\n",
      "       Wheelchair Accessible  Company Name  Address   City  State  ZIP Code  \\\n",
      "0                      False         False    False  False  False     False   \n",
      "1                      False         False    False  False  False     False   \n",
      "2                      False         False    False  False  False     False   \n",
      "3                      False         False    False  False  False     False   \n",
      "4                      False         False    False  False  False     False   \n",
      "...                      ...           ...      ...    ...    ...       ...   \n",
      "16597                  False         False    False  False  False     False   \n",
      "16598                  False         False    False  False  False     False   \n",
      "16599                  False         False    False  False  False     False   \n",
      "16600                  False         False    False  False  False     False   \n",
      "16601                  False         False    False  False  False     False   \n",
      "\n",
      "       Taxi Affiliation  Taxi Medallion License Management   Record ID  \n",
      "0                  True                                True      False  \n",
      "1                  True                                True      False  \n",
      "2                  True                                True      False  \n",
      "3                  True                                True      False  \n",
      "4                  True                                True      False  \n",
      "...                 ...                                 ...        ...  \n",
      "16597              True                                True      False  \n",
      "16598              True                                True      False  \n",
      "16599              True                                True      False  \n",
      "16600              True                                True      False  \n",
      "16601              True                                True      False  \n",
      "\n",
      "[16602 rows x 17 columns]>\n"
     ]
    }
   ],
   "source": [
    "#Remove duplicates\n",
    "vehicles_df.drop_duplicates(inplace=True)\n",
    "#Check null values\n",
    "print(vehicles_df.isnull().sum)"
   ]
  },
  {
   "cell_type": "markdown",
   "metadata": {},
   "source": [
    "<h3> Droping the colomns with null values </h3>\n",
    "   <ul>\n",
    "       <li>Columns with more than 50% missing values often lack sufficient information to be meaningful or useful in analysis.</li>\n",
    "   </ul>"
   ]
  },
  {
   "cell_type": "code",
   "execution_count": 6,
   "metadata": {},
   "outputs": [
    {
     "name": "stdout",
     "output_type": "stream",
     "text": [
      "Dropped columns with more than 50% null values.\n",
      "<class 'pandas.core.frame.DataFrame'>\n",
      "RangeIndex: 16602 entries, 0 to 16601\n",
      "Data columns (total 15 columns):\n",
      " #   Column                 Non-Null Count  Dtype  \n",
      "---  ------                 --------------  -----  \n",
      " 0   Unnamed: 0             16602 non-null  int64  \n",
      " 1   Public Vehicle Number  16602 non-null  int64  \n",
      " 2   Status                 16602 non-null  object \n",
      " 3   Vehicle Make           14685 non-null  object \n",
      " 4   Vehicle Model          14639 non-null  object \n",
      " 5   Vehicle Model Year     14660 non-null  float64\n",
      " 6   Vehicle Color          14616 non-null  object \n",
      " 7   Vehicle Fuel Source    16602 non-null  object \n",
      " 8   Wheelchair Accessible  16602 non-null  object \n",
      " 9   Company Name           16602 non-null  object \n",
      " 10  Address                14816 non-null  object \n",
      " 11  City                   14816 non-null  object \n",
      " 12  State                  14816 non-null  object \n",
      " 13  ZIP Code               14816 non-null  float64\n",
      " 14  Record ID              16602 non-null  object \n",
      "dtypes: float64(2), int64(2), object(11)\n",
      "memory usage: 1.9+ MB\n",
      "None\n"
     ]
    }
   ],
   "source": [
    "threshold = 0.5  # Set the threshold for dropping columns\n",
    "vehicles_df = vehicles_df.loc[:, vehicles_df.isnull().mean() < threshold]\n",
    "print(\"Dropped columns with more than 50% null values.\")\n",
    "print(vehicles_df.info())"
   ]
  },
  {
   "cell_type": "markdown",
   "metadata": {},
   "source": [
    "<h3>Identify Outliers</h3>\n",
    " <ul>\n",
    "       <li>Clean the data by removing outliers because outliers can distort statistical analysis </li>\n",
    "   </ul>"
   ]
  },
  {
   "cell_type": "code",
   "execution_count": 7,
   "metadata": {},
   "outputs": [],
   "source": [
    "import numpy as np\n",
    "for column in vehicles_df.select_dtypes(include=np.number).columns:\n",
    "    Q1 = vehicles_df[column].quantile(0.25)\n",
    "    Q3 = vehicles_df[column].quantile(0.75)\n",
    "    IQR = Q3 - Q1\n",
    "    lower_bound = Q1 - 1.5 * IQR\n",
    "    upper_bound = Q3 + 1.5 * IQR\n",
    "\n",
    "    vehicles_df.loc[(vehicles_df[column] < lower_bound) | (vehicles_df[column] > upper_bound), column] = np.nan"
   ]
  },
  {
   "cell_type": "markdown",
   "metadata": {},
   "source": [
    "<ul>\n",
    "    <li>Filling missing numeric values with median and missing categorical values with mode</li>\n",
    "</ul>"
   ]
  },
  {
   "cell_type": "code",
   "execution_count": 8,
   "metadata": {},
   "outputs": [
    {
     "name": "stderr",
     "output_type": "stream",
     "text": [
      "C:\\Users\\mkdha\\AppData\\Local\\Temp\\ipykernel_11852\\3102936380.py:4: FutureWarning: A value is trying to be set on a copy of a DataFrame or Series through chained assignment using an inplace method.\n",
      "The behavior will change in pandas 3.0. This inplace method will never work because the intermediate object on which we are setting values always behaves as a copy.\n",
      "\n",
      "For example, when doing 'df[col].method(value, inplace=True)', try using 'df.method({col: value}, inplace=True)' or df[col] = df[col].method(value) instead, to perform the operation inplace on the original object.\n",
      "\n",
      "\n",
      "  vehicles_df[col].fillna(vehicles_df[col].mode()[0], inplace=True)\n"
     ]
    }
   ],
   "source": [
    "vehicles_df.fillna(vehicles_df.median(numeric_only=True), inplace=True)\n",
    "\n",
    "for col in vehicles_df.select_dtypes(include=['object']).columns:\n",
    "    vehicles_df[col].fillna(vehicles_df[col].mode()[0], inplace=True)"
   ]
  },
  {
   "cell_type": "markdown",
   "metadata": {},
   "source": [
    "<h3> Extracts the first sequence of alphabetic characters from Record ID column and saves it in new column called Vehicle Type</h3>"
   ]
  },
  {
   "cell_type": "code",
   "execution_count": 9,
   "metadata": {},
   "outputs": [
    {
     "name": "stdout",
     "output_type": "stream",
     "text": [
      "                  Record ID Vehicle Type\n",
      "0  12009Charter Sightseeing      Charter\n",
      "1  12248Charter Sightseeing      Charter\n",
      "2  13527Charter Sightseeing      Charter\n",
      "3  12248Charter Sightseeing      Charter\n",
      "4  13528Charter Sightseeing      Charter\n"
     ]
    }
   ],
   "source": [
    "vehicles_df['Vehicle Type'] = vehicles_df['Record ID'].str.extract(r'([A-Za-z]+)')\n",
    "# Print the updated DataFrame\n",
    "print(vehicles_df[['Record ID', 'Vehicle Type']].head())"
   ]
  }
 ],
 "metadata": {
  "kernelspec": {
   "display_name": "Python 3",
   "language": "python",
   "name": "python3"
  },
  "language_info": {
   "codemirror_mode": {
    "name": "ipython",
    "version": 3
   },
   "file_extension": ".py",
   "mimetype": "text/x-python",
   "name": "python",
   "nbconvert_exporter": "python",
   "pygments_lexer": "ipython3",
   "version": "3.12.4"
  }
 },
 "nbformat": 4,
 "nbformat_minor": 4
}
